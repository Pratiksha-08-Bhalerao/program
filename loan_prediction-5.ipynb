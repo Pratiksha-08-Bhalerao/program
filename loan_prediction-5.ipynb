{
 "cells": [
  {
   "cell_type": "markdown",
   "id": "659ffc62",
   "metadata": {},
   "source": [
    "# Read the data set"
   ]
  },
  {
   "cell_type": "code",
   "execution_count": 1,
   "id": "6a0fe245",
   "metadata": {},
   "outputs": [
    {
     "data": {
      "text/html": [
       "<div>\n",
       "<style scoped>\n",
       "    .dataframe tbody tr th:only-of-type {\n",
       "        vertical-align: middle;\n",
       "    }\n",
       "\n",
       "    .dataframe tbody tr th {\n",
       "        vertical-align: top;\n",
       "    }\n",
       "\n",
       "    .dataframe thead th {\n",
       "        text-align: right;\n",
       "    }\n",
       "</style>\n",
       "<table border=\"1\" class=\"dataframe\">\n",
       "  <thead>\n",
       "    <tr style=\"text-align: right;\">\n",
       "      <th></th>\n",
       "      <th>Loan_ID</th>\n",
       "      <th>Gender</th>\n",
       "      <th>Married</th>\n",
       "      <th>Dependents</th>\n",
       "      <th>Education</th>\n",
       "      <th>Self_Employed</th>\n",
       "      <th>ApplicantIncome</th>\n",
       "      <th>CoapplicantIncome</th>\n",
       "      <th>LoanAmount</th>\n",
       "      <th>Loan_Amount_Term</th>\n",
       "      <th>Credit_History</th>\n",
       "      <th>Property_Area</th>\n",
       "      <th>Loan_Status</th>\n",
       "    </tr>\n",
       "  </thead>\n",
       "  <tbody>\n",
       "    <tr>\n",
       "      <th>0</th>\n",
       "      <td>LP001002</td>\n",
       "      <td>Male</td>\n",
       "      <td>No</td>\n",
       "      <td>0</td>\n",
       "      <td>Graduate</td>\n",
       "      <td>No</td>\n",
       "      <td>5849.0</td>\n",
       "      <td>0.0</td>\n",
       "      <td>NaN</td>\n",
       "      <td>360.0</td>\n",
       "      <td>1.0</td>\n",
       "      <td>Urban</td>\n",
       "      <td>Y</td>\n",
       "    </tr>\n",
       "    <tr>\n",
       "      <th>1</th>\n",
       "      <td>LP001003</td>\n",
       "      <td>Male</td>\n",
       "      <td>Yes</td>\n",
       "      <td>1</td>\n",
       "      <td>Graduate</td>\n",
       "      <td>No</td>\n",
       "      <td>NaN</td>\n",
       "      <td>1508.0</td>\n",
       "      <td>128.0</td>\n",
       "      <td>360.0</td>\n",
       "      <td>1.0</td>\n",
       "      <td>Rural</td>\n",
       "      <td>N</td>\n",
       "    </tr>\n",
       "    <tr>\n",
       "      <th>2</th>\n",
       "      <td>LP001005</td>\n",
       "      <td>Male</td>\n",
       "      <td>Yes</td>\n",
       "      <td>0</td>\n",
       "      <td>Graduate</td>\n",
       "      <td>Yes</td>\n",
       "      <td>3000.0</td>\n",
       "      <td>0.0</td>\n",
       "      <td>66.0</td>\n",
       "      <td>360.0</td>\n",
       "      <td>1.0</td>\n",
       "      <td>Urban</td>\n",
       "      <td>Y</td>\n",
       "    </tr>\n",
       "    <tr>\n",
       "      <th>3</th>\n",
       "      <td>LP001006</td>\n",
       "      <td>Male</td>\n",
       "      <td>Yes</td>\n",
       "      <td>0</td>\n",
       "      <td>Not Graduate</td>\n",
       "      <td>No</td>\n",
       "      <td>2583.0</td>\n",
       "      <td>2358.0</td>\n",
       "      <td>120.0</td>\n",
       "      <td>360.0</td>\n",
       "      <td>1.0</td>\n",
       "      <td>Urban</td>\n",
       "      <td>Y</td>\n",
       "    </tr>\n",
       "    <tr>\n",
       "      <th>4</th>\n",
       "      <td>LP001008</td>\n",
       "      <td>Male</td>\n",
       "      <td>No</td>\n",
       "      <td>0</td>\n",
       "      <td>Graduate</td>\n",
       "      <td>No</td>\n",
       "      <td>6000.0</td>\n",
       "      <td>0.0</td>\n",
       "      <td>141.0</td>\n",
       "      <td>360.0</td>\n",
       "      <td>1.0</td>\n",
       "      <td>Urban</td>\n",
       "      <td>Y</td>\n",
       "    </tr>\n",
       "  </tbody>\n",
       "</table>\n",
       "</div>"
      ],
      "text/plain": [
       "    Loan_ID Gender Married Dependents     Education Self_Employed  \\\n",
       "0  LP001002   Male      No          0      Graduate            No   \n",
       "1  LP001003   Male     Yes          1      Graduate            No   \n",
       "2  LP001005   Male     Yes          0      Graduate           Yes   \n",
       "3  LP001006   Male     Yes          0  Not Graduate            No   \n",
       "4  LP001008   Male      No          0      Graduate            No   \n",
       "\n",
       "   ApplicantIncome  CoapplicantIncome  LoanAmount  Loan_Amount_Term  \\\n",
       "0           5849.0                0.0         NaN             360.0   \n",
       "1              NaN             1508.0       128.0             360.0   \n",
       "2           3000.0                0.0        66.0             360.0   \n",
       "3           2583.0             2358.0       120.0             360.0   \n",
       "4           6000.0                0.0       141.0             360.0   \n",
       "\n",
       "   Credit_History Property_Area Loan_Status  \n",
       "0             1.0         Urban           Y  \n",
       "1             1.0         Rural           N  \n",
       "2             1.0         Urban           Y  \n",
       "3             1.0         Urban           Y  \n",
       "4             1.0         Urban           Y  "
      ]
     },
     "execution_count": 1,
     "metadata": {},
     "output_type": "execute_result"
    }
   ],
   "source": [
    "import pandas as pd\n",
    "df_train=pd.read_csv(\"C:/Users/hp-pc/Desktop/Pratiksha_ds/Projects/project-loan/train.csv\")\n",
    "df_train.head(5)"
   ]
  },
  {
   "cell_type": "markdown",
   "id": "ebf67d2c",
   "metadata": {},
   "source": [
    "# Data Analytics"
   ]
  },
  {
   "cell_type": "code",
   "execution_count": 2,
   "id": "ca96e28f",
   "metadata": {},
   "outputs": [
    {
     "data": {
      "text/plain": [
       "Index(['Loan_ID', 'Gender', 'Married', 'Dependents', 'Education',\n",
       "       'Self_Employed', 'ApplicantIncome', 'CoapplicantIncome', 'LoanAmount',\n",
       "       'Loan_Amount_Term', 'Credit_History', 'Property_Area', 'Loan_Status'],\n",
       "      dtype='object')"
      ]
     },
     "execution_count": 2,
     "metadata": {},
     "output_type": "execute_result"
    }
   ],
   "source": [
    "df_train.columns"
   ]
  },
  {
   "cell_type": "code",
   "execution_count": 3,
   "id": "b3adeece",
   "metadata": {},
   "outputs": [
    {
     "data": {
      "text/plain": [
       "Loan_ID              614\n",
       "Gender                 2\n",
       "Married                2\n",
       "Dependents             4\n",
       "Education              2\n",
       "Self_Employed          2\n",
       "ApplicantIncome      504\n",
       "CoapplicantIncome    286\n",
       "LoanAmount           203\n",
       "Loan_Amount_Term      10\n",
       "Credit_History         2\n",
       "Property_Area          3\n",
       "Loan_Status            2\n",
       "dtype: int64"
      ]
     },
     "execution_count": 3,
     "metadata": {},
     "output_type": "execute_result"
    }
   ],
   "source": [
    "df_train.nunique() # number of unique elements in the columns"
   ]
  },
  {
   "cell_type": "code",
   "execution_count": 4,
   "id": "74b78e33",
   "metadata": {},
   "outputs": [
    {
     "name": "stdout",
     "output_type": "stream",
     "text": [
      "<class 'pandas.core.frame.DataFrame'>\n",
      "RangeIndex: 614 entries, 0 to 613\n",
      "Data columns (total 13 columns):\n",
      " #   Column             Non-Null Count  Dtype  \n",
      "---  ------             --------------  -----  \n",
      " 0   Loan_ID            614 non-null    object \n",
      " 1   Gender             599 non-null    object \n",
      " 2   Married            611 non-null    object \n",
      " 3   Dependents         599 non-null    object \n",
      " 4   Education          613 non-null    object \n",
      " 5   Self_Employed      582 non-null    object \n",
      " 6   ApplicantIncome    612 non-null    float64\n",
      " 7   CoapplicantIncome  613 non-null    float64\n",
      " 8   LoanAmount         592 non-null    float64\n",
      " 9   Loan_Amount_Term   600 non-null    float64\n",
      " 10  Credit_History     564 non-null    float64\n",
      " 11  Property_Area      614 non-null    object \n",
      " 12  Loan_Status        614 non-null    object \n",
      "dtypes: float64(5), object(8)\n",
      "memory usage: 62.5+ KB\n"
     ]
    }
   ],
   "source": [
    "df_train.info()"
   ]
  },
  {
   "cell_type": "markdown",
   "id": "91d7be20",
   "metadata": {},
   "source": [
    "# To make a data in standardize form"
   ]
  },
  {
   "cell_type": "code",
   "execution_count": 5,
   "id": "1930e0cd",
   "metadata": {},
   "outputs": [],
   "source": [
    "from functions import replacer\n",
    "replacer(df_train)"
   ]
  },
  {
   "cell_type": "code",
   "execution_count": 6,
   "id": "60def064",
   "metadata": {},
   "outputs": [
    {
     "name": "stdout",
     "output_type": "stream",
     "text": [
      "<class 'pandas.core.frame.DataFrame'>\n",
      "RangeIndex: 614 entries, 0 to 613\n",
      "Data columns (total 13 columns):\n",
      " #   Column             Non-Null Count  Dtype  \n",
      "---  ------             --------------  -----  \n",
      " 0   Loan_ID            614 non-null    object \n",
      " 1   Gender             614 non-null    object \n",
      " 2   Married            614 non-null    object \n",
      " 3   Dependents         614 non-null    object \n",
      " 4   Education          614 non-null    object \n",
      " 5   Self_Employed      614 non-null    object \n",
      " 6   ApplicantIncome    614 non-null    float64\n",
      " 7   CoapplicantIncome  614 non-null    float64\n",
      " 8   LoanAmount         614 non-null    float64\n",
      " 9   Loan_Amount_Term   614 non-null    float64\n",
      " 10  Credit_History     614 non-null    float64\n",
      " 11  Property_Area      614 non-null    object \n",
      " 12  Loan_Status        614 non-null    object \n",
      "dtypes: float64(5), object(8)\n",
      "memory usage: 62.5+ KB\n"
     ]
    }
   ],
   "source": [
    "df_train.info()"
   ]
  },
  {
   "cell_type": "code",
   "execution_count": 7,
   "id": "e75bf00d",
   "metadata": {},
   "outputs": [
    {
     "data": {
      "text/html": [
       "<div>\n",
       "<style scoped>\n",
       "    .dataframe tbody tr th:only-of-type {\n",
       "        vertical-align: middle;\n",
       "    }\n",
       "\n",
       "    .dataframe tbody tr th {\n",
       "        vertical-align: top;\n",
       "    }\n",
       "\n",
       "    .dataframe thead th {\n",
       "        text-align: right;\n",
       "    }\n",
       "</style>\n",
       "<table border=\"1\" class=\"dataframe\">\n",
       "  <thead>\n",
       "    <tr style=\"text-align: right;\">\n",
       "      <th></th>\n",
       "      <th>Loan_ID</th>\n",
       "      <th>Gender</th>\n",
       "      <th>Married</th>\n",
       "      <th>Dependents</th>\n",
       "      <th>Education</th>\n",
       "      <th>Self_Employed</th>\n",
       "      <th>ApplicantIncome</th>\n",
       "      <th>CoapplicantIncome</th>\n",
       "      <th>LoanAmount</th>\n",
       "      <th>Loan_Amount_Term</th>\n",
       "      <th>Credit_History</th>\n",
       "      <th>Property_Area</th>\n",
       "    </tr>\n",
       "  </thead>\n",
       "  <tbody>\n",
       "    <tr>\n",
       "      <th>0</th>\n",
       "      <td>LP001015</td>\n",
       "      <td>Male</td>\n",
       "      <td>Yes</td>\n",
       "      <td>0</td>\n",
       "      <td>Graduate</td>\n",
       "      <td>No</td>\n",
       "      <td>5720</td>\n",
       "      <td>0</td>\n",
       "      <td>110.0</td>\n",
       "      <td>360.0</td>\n",
       "      <td>1.0</td>\n",
       "      <td>Urban</td>\n",
       "    </tr>\n",
       "    <tr>\n",
       "      <th>1</th>\n",
       "      <td>LP001022</td>\n",
       "      <td>Male</td>\n",
       "      <td>Yes</td>\n",
       "      <td>1</td>\n",
       "      <td>Graduate</td>\n",
       "      <td>No</td>\n",
       "      <td>3076</td>\n",
       "      <td>1500</td>\n",
       "      <td>126.0</td>\n",
       "      <td>360.0</td>\n",
       "      <td>1.0</td>\n",
       "      <td>Urban</td>\n",
       "    </tr>\n",
       "    <tr>\n",
       "      <th>2</th>\n",
       "      <td>LP001031</td>\n",
       "      <td>Male</td>\n",
       "      <td>Yes</td>\n",
       "      <td>2</td>\n",
       "      <td>Graduate</td>\n",
       "      <td>No</td>\n",
       "      <td>5000</td>\n",
       "      <td>1800</td>\n",
       "      <td>208.0</td>\n",
       "      <td>360.0</td>\n",
       "      <td>1.0</td>\n",
       "      <td>Urban</td>\n",
       "    </tr>\n",
       "    <tr>\n",
       "      <th>3</th>\n",
       "      <td>LP001035</td>\n",
       "      <td>Male</td>\n",
       "      <td>Yes</td>\n",
       "      <td>2</td>\n",
       "      <td>Graduate</td>\n",
       "      <td>No</td>\n",
       "      <td>2340</td>\n",
       "      <td>2546</td>\n",
       "      <td>100.0</td>\n",
       "      <td>360.0</td>\n",
       "      <td>NaN</td>\n",
       "      <td>Urban</td>\n",
       "    </tr>\n",
       "    <tr>\n",
       "      <th>4</th>\n",
       "      <td>LP001051</td>\n",
       "      <td>Male</td>\n",
       "      <td>No</td>\n",
       "      <td>0</td>\n",
       "      <td>Not Graduate</td>\n",
       "      <td>No</td>\n",
       "      <td>3276</td>\n",
       "      <td>0</td>\n",
       "      <td>78.0</td>\n",
       "      <td>360.0</td>\n",
       "      <td>1.0</td>\n",
       "      <td>Urban</td>\n",
       "    </tr>\n",
       "  </tbody>\n",
       "</table>\n",
       "</div>"
      ],
      "text/plain": [
       "    Loan_ID Gender Married Dependents     Education Self_Employed  \\\n",
       "0  LP001015   Male     Yes          0      Graduate            No   \n",
       "1  LP001022   Male     Yes          1      Graduate            No   \n",
       "2  LP001031   Male     Yes          2      Graduate            No   \n",
       "3  LP001035   Male     Yes          2      Graduate            No   \n",
       "4  LP001051   Male      No          0  Not Graduate            No   \n",
       "\n",
       "   ApplicantIncome  CoapplicantIncome  LoanAmount  Loan_Amount_Term  \\\n",
       "0             5720                  0       110.0             360.0   \n",
       "1             3076               1500       126.0             360.0   \n",
       "2             5000               1800       208.0             360.0   \n",
       "3             2340               2546       100.0             360.0   \n",
       "4             3276                  0        78.0             360.0   \n",
       "\n",
       "   Credit_History Property_Area  \n",
       "0             1.0         Urban  \n",
       "1             1.0         Urban  \n",
       "2             1.0         Urban  \n",
       "3             NaN         Urban  \n",
       "4             1.0         Urban  "
      ]
     },
     "execution_count": 7,
     "metadata": {},
     "output_type": "execute_result"
    }
   ],
   "source": [
    "df_test=pd.read_csv(\"C:/Users/hp-pc/Desktop/Pratiksha_ds/Projects/project-loan/test.csv\")\n",
    "df_test.head(5)"
   ]
  },
  {
   "cell_type": "code",
   "execution_count": 8,
   "id": "38f89a8f",
   "metadata": {},
   "outputs": [
    {
     "name": "stdout",
     "output_type": "stream",
     "text": [
      "<class 'pandas.core.frame.DataFrame'>\n",
      "RangeIndex: 367 entries, 0 to 366\n",
      "Data columns (total 12 columns):\n",
      " #   Column             Non-Null Count  Dtype  \n",
      "---  ------             --------------  -----  \n",
      " 0   Loan_ID            367 non-null    object \n",
      " 1   Gender             356 non-null    object \n",
      " 2   Married            367 non-null    object \n",
      " 3   Dependents         357 non-null    object \n",
      " 4   Education          367 non-null    object \n",
      " 5   Self_Employed      344 non-null    object \n",
      " 6   ApplicantIncome    367 non-null    int64  \n",
      " 7   CoapplicantIncome  367 non-null    int64  \n",
      " 8   LoanAmount         362 non-null    float64\n",
      " 9   Loan_Amount_Term   361 non-null    float64\n",
      " 10  Credit_History     338 non-null    float64\n",
      " 11  Property_Area      367 non-null    object \n",
      "dtypes: float64(3), int64(2), object(7)\n",
      "memory usage: 34.5+ KB\n"
     ]
    }
   ],
   "source": [
    "df_test.info()"
   ]
  },
  {
   "cell_type": "markdown",
   "id": "ad049599",
   "metadata": {},
   "source": [
    "# To make a data set in standardize form"
   ]
  },
  {
   "cell_type": "code",
   "execution_count": 9,
   "id": "14f08bc4",
   "metadata": {},
   "outputs": [],
   "source": [
    "from functions import replacer\n",
    "replacer(df_test)"
   ]
  },
  {
   "cell_type": "code",
   "execution_count": 10,
   "id": "9d682bf4",
   "metadata": {},
   "outputs": [
    {
     "name": "stdout",
     "output_type": "stream",
     "text": [
      "<class 'pandas.core.frame.DataFrame'>\n",
      "RangeIndex: 367 entries, 0 to 366\n",
      "Data columns (total 12 columns):\n",
      " #   Column             Non-Null Count  Dtype  \n",
      "---  ------             --------------  -----  \n",
      " 0   Loan_ID            367 non-null    object \n",
      " 1   Gender             367 non-null    object \n",
      " 2   Married            367 non-null    object \n",
      " 3   Dependents         367 non-null    object \n",
      " 4   Education          367 non-null    object \n",
      " 5   Self_Employed      367 non-null    object \n",
      " 6   ApplicantIncome    367 non-null    int64  \n",
      " 7   CoapplicantIncome  367 non-null    int64  \n",
      " 8   LoanAmount         367 non-null    float64\n",
      " 9   Loan_Amount_Term   367 non-null    float64\n",
      " 10  Credit_History     367 non-null    float64\n",
      " 11  Property_Area      367 non-null    object \n",
      "dtypes: float64(3), int64(2), object(7)\n",
      "memory usage: 34.5+ KB\n"
     ]
    }
   ],
   "source": [
    "df_test.info()"
   ]
  },
  {
   "cell_type": "code",
   "execution_count": 11,
   "id": "5f2a6919",
   "metadata": {},
   "outputs": [
    {
     "data": {
      "text/plain": [
       "Index(['Loan_ID', 'Gender', 'Married', 'Dependents', 'Education',\n",
       "       'Self_Employed', 'ApplicantIncome', 'CoapplicantIncome', 'LoanAmount',\n",
       "       'Loan_Amount_Term', 'Credit_History', 'Property_Area', 'Loan_Status'],\n",
       "      dtype='object')"
      ]
     },
     "execution_count": 11,
     "metadata": {},
     "output_type": "execute_result"
    }
   ],
   "source": [
    "df_train.columns"
   ]
  },
  {
   "cell_type": "code",
   "execution_count": 12,
   "id": "766e5caf",
   "metadata": {},
   "outputs": [
    {
     "data": {
      "text/plain": [
       "Index(['Loan_ID', 'Gender', 'Married', 'Dependents', 'Education',\n",
       "       'Self_Employed', 'ApplicantIncome', 'CoapplicantIncome', 'LoanAmount',\n",
       "       'Loan_Amount_Term', 'Credit_History', 'Property_Area'],\n",
       "      dtype='object')"
      ]
     },
     "execution_count": 12,
     "metadata": {},
     "output_type": "execute_result"
    }
   ],
   "source": [
    "df_test.columns"
   ]
  },
  {
   "cell_type": "code",
   "execution_count": 13,
   "id": "b18aab4c",
   "metadata": {},
   "outputs": [
    {
     "data": {
      "text/plain": [
       "(614, 13)"
      ]
     },
     "execution_count": 13,
     "metadata": {},
     "output_type": "execute_result"
    }
   ],
   "source": [
    "df_train.shape"
   ]
  },
  {
   "cell_type": "code",
   "execution_count": 14,
   "id": "5122fe66",
   "metadata": {},
   "outputs": [
    {
     "data": {
      "text/plain": [
       "(367, 12)"
      ]
     },
     "execution_count": 14,
     "metadata": {},
     "output_type": "execute_result"
    }
   ],
   "source": [
    "df_test.shape"
   ]
  },
  {
   "cell_type": "markdown",
   "id": "36e6c27c",
   "metadata": {},
   "source": [
    "# define X and Y"
   ]
  },
  {
   "cell_type": "code",
   "execution_count": 15,
   "id": "e18097ae",
   "metadata": {},
   "outputs": [],
   "source": [
    "Y=df_train[[\"Loan_Status\"]]\n",
    "X=df_train.drop(labels=[\"Loan_ID\",\"Loan_Status\"],axis=1)"
   ]
  },
  {
   "cell_type": "markdown",
   "id": "32d390b3",
   "metadata": {},
   "source": [
    "# Preprocessing"
   ]
  },
  {
   "cell_type": "code",
   "execution_count": 16,
   "id": "e12209f7",
   "metadata": {},
   "outputs": [],
   "source": [
    "from functions import catconsep\n",
    "cat,con=catconsep(X)"
   ]
  },
  {
   "cell_type": "code",
   "execution_count": 17,
   "id": "d6923f47",
   "metadata": {},
   "outputs": [],
   "source": [
    "from sklearn.preprocessing import StandardScaler\n",
    "ss=StandardScaler()\n",
    "x1=pd.DataFrame(ss.fit_transform(X[con]),columns=con)\n",
    "x2=pd.get_dummies(X[cat])\n",
    "new_x3=x1.join(x2)"
   ]
  },
  {
   "cell_type": "markdown",
   "id": "baad8ae5",
   "metadata": {},
   "source": [
    "# Splitting the data"
   ]
  },
  {
   "cell_type": "code",
   "execution_count": 18,
   "id": "7af4bea3",
   "metadata": {},
   "outputs": [],
   "source": [
    "from sklearn.model_selection import train_test_split\n",
    "xtrain,xtest,ytrain,ytest=train_test_split(new_x3,Y,test_size=0.2,random_state=21)"
   ]
  },
  {
   "cell_type": "markdown",
   "id": "f62727c2",
   "metadata": {},
   "source": [
    "# To Create aTree"
   ]
  },
  {
   "cell_type": "code",
   "execution_count": 19,
   "id": "f5e0e361",
   "metadata": {},
   "outputs": [
    {
     "name": "stdout",
     "output_type": "stream",
     "text": [
      "\n",
      "Traning error : 1.0\n",
      "\n",
      "Testing error : 0.6910569105691057\n"
     ]
    }
   ],
   "source": [
    "from sklearn.tree import DecisionTreeClassifier\n",
    "dtr=DecisionTreeClassifier(random_state=21,criterion=\"gini\")\n",
    "model=dtr.fit(xtrain,ytrain)\n",
    "tr_pred=model.predict(xtrain)\n",
    "ts_pred=model.predict(xtest)\n",
    "\n",
    "from sklearn.metrics import accuracy_score\n",
    "tr_err = accuracy_score(ytrain,tr_pred)\n",
    "ts_err = accuracy_score(ytest,ts_pred)\n",
    "print(\"\\nTraning error :\",tr_err)\n",
    "print(\"\\nTesting error :\",ts_err)\n",
    "\n",
    "from sklearn.tree import export_graphviz\n",
    "export_graphviz(dtr,out_file=\"C:/Users/hp-pc/Desktop/dtr2.out\") # plot tree"
   ]
  },
  {
   "cell_type": "markdown",
   "id": "30989d7e",
   "metadata": {},
   "source": [
    "# A model for decision tree classification"
   ]
  },
  {
   "cell_type": "code",
   "execution_count": 20,
   "id": "7aeee47d",
   "metadata": {},
   "outputs": [
    {
     "name": "stdout",
     "output_type": "stream",
     "text": [
      "1.0\n",
      "0.6747967479674797\n"
     ]
    }
   ],
   "source": [
    "\n",
    "from sklearn.tree import DecisionTreeClassifier\n",
    "dtc=DecisionTreeClassifier()\n",
    "model=dtc.fit(xtrain,ytrain)\n",
    "tr_pred=model.predict(xtrain)\n",
    "ts_pred=model.predict(xtest)\n",
    "from sklearn.metrics import accuracy_score\n",
    "tr_acc=accuracy_score(ytrain,tr_pred)\n",
    "ts_acc=accuracy_score(ytest,ts_pred)\n",
    "\n",
    "print(tr_acc)\n",
    "print(ts_acc)\n"
   ]
  },
  {
   "cell_type": "code",
   "execution_count": 21,
   "id": "b80413f6",
   "metadata": {},
   "outputs": [
    {
     "data": {
      "text/plain": [
       "[<matplotlib.lines.Line2D at 0xf93cb35250>]"
      ]
     },
     "execution_count": 21,
     "metadata": {},
     "output_type": "execute_result"
    },
    {
     "data": {
      "image/png": "[encoded data removed]",
      "text/plain": [
       "<Figure size 432x288 with 1 Axes>"
      ]
     },
     "metadata": {
      "needs_background": "light"
     },
     "output_type": "display_data"
    }
   ],
   "source": [
    "tr = []\n",
    "ts = []\n",
    "for i in range(1,30,1):\n",
    "    from sklearn.tree import DecisionTreeClassifier\n",
    "    dtc = DecisionTreeClassifier(random_state=21,max_depth=i)\n",
    "    model=dtc.fit(xtrain,ytrain)\n",
    "    tr_pred=model.predict(xtrain)\n",
    "    ts_pred=model.predict(xtest)\n",
    "    from sklearn.metrics import accuracy_score\n",
    "    tr_acc=accuracy_score(ytrain,tr_pred)\n",
    "    ts_acc=accuracy_score(ytest,ts_pred)\n",
    "    tr.append(tr_acc)\n",
    "    ts.append(ts_acc)\n",
    "    \n",
    "import matplotlib.pyplot as plt\n",
    "plt.plot(tr)\n",
    "plt.plot(ts)"
   ]
  },
  {
   "cell_type": "code",
   "execution_count": 22,
   "id": "576ec1e3",
   "metadata": {},
   "outputs": [
    {
     "data": {
      "text/plain": [
       "([<matplotlib.axis.XTick at 0xf93cbfefa0>,\n",
       "  <matplotlib.axis.XTick at 0xf93cbfef70>,\n",
       "  <matplotlib.axis.XTick at 0xf93cbfaaf0>,\n",
       "  <matplotlib.axis.XTick at 0xf93cc2b040>,\n",
       "  <matplotlib.axis.XTick at 0xf93cc2b550>,\n",
       "  <matplotlib.axis.XTick at 0xf93cc2ba60>,\n",
       "  <matplotlib.axis.XTick at 0xf93cc2bf70>,\n",
       "  <matplotlib.axis.XTick at 0xf93cc314c0>,\n",
       "  <matplotlib.axis.XTick at 0xf93cc2b6d0>,\n",
       "  <matplotlib.axis.XTick at 0xf93cc31580>,\n",
       "  <matplotlib.axis.XTick at 0xf93cc31b80>,\n",
       "  <matplotlib.axis.XTick at 0xf93cc360d0>,\n",
       "  <matplotlib.axis.XTick at 0xf93cc365e0>,\n",
       "  <matplotlib.axis.XTick at 0xf93cc36af0>,\n",
       "  <matplotlib.axis.XTick at 0xf93cc3d040>,\n",
       "  <matplotlib.axis.XTick at 0xf93cc3d550>,\n",
       "  <matplotlib.axis.XTick at 0xf93cc3da60>,\n",
       "  <matplotlib.axis.XTick at 0xf93cc36670>,\n",
       "  <matplotlib.axis.XTick at 0xf93cc31190>,\n",
       "  <matplotlib.axis.XTick at 0xf93cc3d5e0>],\n",
       " [Text(0, 0, ''),\n",
       "  Text(0, 0, ''),\n",
       "  Text(0, 0, ''),\n",
       "  Text(0, 0, ''),\n",
       "  Text(0, 0, ''),\n",
       "  Text(0, 0, ''),\n",
       "  Text(0, 0, ''),\n",
       "  Text(0, 0, ''),\n",
       "  Text(0, 0, ''),\n",
       "  Text(0, 0, ''),\n",
       "  Text(0, 0, ''),\n",
       "  Text(0, 0, ''),\n",
       "  Text(0, 0, ''),\n",
       "  Text(0, 0, ''),\n",
       "  Text(0, 0, ''),\n",
       "  Text(0, 0, ''),\n",
       "  Text(0, 0, ''),\n",
       "  Text(0, 0, ''),\n",
       "  Text(0, 0, ''),\n",
       "  Text(0, 0, '')])"
      ]
     },
     "execution_count": 22,
     "metadata": {},
     "output_type": "execute_result"
    },
    {
     "data": {
      "image/png": "[encoded data removed]",
      "text/plain": [
       "<Figure size 432x288 with 1 Axes>"
      ]
     },
     "metadata": {
      "needs_background": "light"
     },
     "output_type": "display_data"
    }
   ],
   "source": [
    "tr = []\n",
    "ts = []\n",
    "for i in range(1,100,1):\n",
    "    from sklearn.tree import DecisionTreeClassifier\n",
    "    dtc = DecisionTreeClassifier(random_state=21,min_samples_leaf=i)\n",
    "    model=dtc.fit(xtrain,ytrain)\n",
    "    tr_pred=model.predict(xtrain)\n",
    "    ts_pred=model.predict(xtest)\n",
    "    from sklearn.metrics import accuracy_score\n",
    "    tr_acc=accuracy_score(ytrain,tr_pred)\n",
    "    ts_acc=accuracy_score(ytest,ts_pred)\n",
    "    tr.append(tr_acc)\n",
    "    ts.append(ts_acc)\n",
    "    \n",
    "import matplotlib.pyplot as plt\n",
    "plt.plot(tr)\n",
    "plt.plot(ts)\n",
    "plt.xticks(range(0,100,5))"
   ]
  },
  {
   "cell_type": "code",
   "execution_count": 23,
   "id": "fa8efbe0",
   "metadata": {},
   "outputs": [
    {
     "data": {
      "text/plain": [
       "[<matplotlib.lines.Line2D at 0xf93ccaa490>]"
      ]
     },
     "execution_count": 23,
     "metadata": {},
     "output_type": "execute_result"
    },
    {
     "data": {
      "image/png": "[encoded data removed]",
      "text/plain": [
       "<Figure size 432x288 with 1 Axes>"
      ]
     },
     "metadata": {
      "needs_background": "light"
     },
     "output_type": "display_data"
    }
   ],
   "source": [
    "tr = []\n",
    "ts = []\n",
    "for i in range(2,30,1):\n",
    "    from sklearn.tree import DecisionTreeClassifier\n",
    "    dtc = DecisionTreeClassifier(random_state=21,min_samples_split=i)\n",
    "    model=dtc.fit(xtrain,ytrain)\n",
    "    tr_pred=model.predict(xtrain)\n",
    "    ts_pred=model.predict(xtest)\n",
    "    from sklearn.metrics import accuracy_score\n",
    "    tr_acc=accuracy_score(ytrain,tr_pred)\n",
    "    ts_acc=accuracy_score(ytest,ts_pred)\n",
    "    tr.append(tr_acc)\n",
    "    ts.append(ts_acc)\n",
    "    \n",
    "import matplotlib.pyplot as plt\n",
    "plt.plot(tr)\n",
    "plt.plot(ts)"
   ]
  },
  {
   "cell_type": "code",
   "execution_count": 24,
   "id": "eeb228f9",
   "metadata": {},
   "outputs": [
    {
     "data": {
      "text/plain": [
       "{'max_depth': 2}"
      ]
     },
     "execution_count": 24,
     "metadata": {},
     "output_type": "execute_result"
    }
   ],
   "source": [
    "tg={\"max_depth\":range(2,30,1)}\n",
    "from sklearn.tree import DecisionTreeClassifier\n",
    "dtc=DecisionTreeClassifier(random_state=21)\n",
    "from sklearn.model_selection import GridSearchCV\n",
    "cv=GridSearchCV(dtc,tg,scoring=\"accuracy\",cv=4)\n",
    "cvmodel=cv.fit(new_x3,Y)\n",
    "cvmodel.best_params_"
   ]
  },
  {
   "cell_type": "code",
   "execution_count": 25,
   "id": "4aa60852",
   "metadata": {},
   "outputs": [
    {
     "data": {
      "text/plain": [
       "{'min_samples_leaf': 27}"
      ]
     },
     "execution_count": 25,
     "metadata": {},
     "output_type": "execute_result"
    }
   ],
   "source": [
    "tg={\"min_samples_leaf\":range(2,100,1)}\n",
    "from sklearn.tree import DecisionTreeClassifier\n",
    "dtc=DecisionTreeClassifier(random_state=21)\n",
    "from sklearn.model_selection import GridSearchCV\n",
    "cv=GridSearchCV(dtc,tg,scoring=\"accuracy\",cv=4)\n",
    "cvmodel=cv.fit(new_x3,Y)\n",
    "cvmodel.best_params_"
   ]
  },
  {
   "cell_type": "code",
   "execution_count": 26,
   "id": "b9c00074",
   "metadata": {},
   "outputs": [
    {
     "data": {
      "text/plain": [
       "{'min_samples_split': 28}"
      ]
     },
     "execution_count": 26,
     "metadata": {},
     "output_type": "execute_result"
    }
   ],
   "source": [
    "tg={\"min_samples_split\":range(2,30,1)}\n",
    "from sklearn.tree import DecisionTreeClassifier\n",
    "dtc=DecisionTreeClassifier(random_state=21)\n",
    "from sklearn.model_selection import GridSearchCV\n",
    "cv=GridSearchCV(dtc,tg,scoring=\"accuracy\",cv=4)\n",
    "cvmodel=cv.fit(new_x3,Y)\n",
    "cvmodel.best_params_"
   ]
  },
  {
   "cell_type": "code",
   "execution_count": 27,
   "id": "78d1b71c",
   "metadata": {},
   "outputs": [
    {
     "name": "stdout",
     "output_type": "stream",
     "text": [
      "0.8757637474541752\n",
      "0.6991869918699187\n"
     ]
    }
   ],
   "source": [
    "from sklearn.tree import DecisionTreeClassifier\n",
    "dtc=DecisionTreeClassifier(random_state=21,min_samples_split=25)\n",
    "model=dtc.fit(xtrain,ytrain)\n",
    "tr_pred=model.predict(xtrain)\n",
    "ts_pred=model.predict(xtest)\n",
    "from sklearn.metrics import accuracy_score\n",
    "tr_acc=accuracy_score(ytrain,tr_pred)\n",
    "ts_acc=accuracy_score(ytest,ts_pred)\n",
    "\n",
    "print(tr_acc)\n",
    "print(ts_acc)"
   ]
  },
  {
   "cell_type": "markdown",
   "id": "4a3d946f",
   "metadata": {},
   "source": [
    "# now we are going to test test csv file"
   ]
  },
  {
   "cell_type": "code",
   "execution_count": 28,
   "id": "cb920fab",
   "metadata": {},
   "outputs": [],
   "source": [
    "from functions import preprocessing\n",
    "test=df_test.drop(labels=[\"Loan_ID\",],axis=1)\n",
    "test_new=preprocessing(test)"
   ]
  },
  {
   "cell_type": "code",
   "execution_count": 29,
   "id": "7dc4b4cc",
   "metadata": {},
   "outputs": [],
   "source": [
    "#print(xtrain.columns)"
   ]
  },
  {
   "cell_type": "code",
   "execution_count": 30,
   "id": "0e86287a",
   "metadata": {},
   "outputs": [],
   "source": [
    "final_list=test_new[list(xtrain.columns)]"
   ]
  },
  {
   "cell_type": "code",
   "execution_count": 31,
   "id": "8a21054c",
   "metadata": {},
   "outputs": [],
   "source": [
    "#print(final_list)"
   ]
  },
  {
   "cell_type": "code",
   "execution_count": 32,
   "id": "4c19417f",
   "metadata": {},
   "outputs": [],
   "source": [
    "predict_final=model.predict(final_list)\n",
    "#print(predict_final)"
   ]
  },
  {
   "cell_type": "code",
   "execution_count": 33,
   "id": "9f4c5697",
   "metadata": {},
   "outputs": [],
   "source": [
    "p=df_test[[\"Loan_ID\"]]"
   ]
  },
  {
   "cell_type": "code",
   "execution_count": 34,
   "id": "12a8cd06",
   "metadata": {},
   "outputs": [],
   "source": [
    "from warnings import filterwarnings\n",
    "filterwarnings(\"ignore\")\n",
    "p[\"Loan_Status\"]=predict_final"
   ]
  },
  {
   "cell_type": "code",
   "execution_count": 35,
   "id": "a265ade6",
   "metadata": {},
   "outputs": [],
   "source": [
    "p.to_csv(\"C:/Users/hp-pc/Desktop/myfile.csv\")"
   ]
  },
  {
   "cell_type": "code",
   "execution_count": 36,
   "id": "2e981ce0",
   "metadata": {},
   "outputs": [],
   "source": [
    "q=pd.read_csv(\"C:/Users/hp-pc/Desktop/myfile.csv\")"
   ]
  },
  {
   "cell_type": "code",
   "execution_count": 37,
   "id": "d2eb528a",
   "metadata": {
    "scrolled": true
   },
   "outputs": [
    {
     "data": {
      "text/html": [
       "<div>\n",
       "<style scoped>\n",
       "    .dataframe tbody tr th:only-of-type {\n",
       "        vertical-align: middle;\n",
       "    }\n",
       "\n",
       "    .dataframe tbody tr th {\n",
       "        vertical-align: top;\n",
       "    }\n",
       "\n",
       "    .dataframe thead th {\n",
       "        text-align: right;\n",
       "    }\n",
       "</style>\n",
       "<table border=\"1\" class=\"dataframe\">\n",
       "  <thead>\n",
       "    <tr style=\"text-align: right;\">\n",
       "      <th></th>\n",
       "      <th>Unnamed: 0</th>\n",
       "      <th>Loan_ID</th>\n",
       "      <th>Loan_Status</th>\n",
       "    </tr>\n",
       "  </thead>\n",
       "  <tbody>\n",
       "    <tr>\n",
       "      <th>0</th>\n",
       "      <td>0</td>\n",
       "      <td>LP001015</td>\n",
       "      <td>Y</td>\n",
       "    </tr>\n",
       "    <tr>\n",
       "      <th>1</th>\n",
       "      <td>1</td>\n",
       "      <td>LP001022</td>\n",
       "      <td>Y</td>\n",
       "    </tr>\n",
       "    <tr>\n",
       "      <th>2</th>\n",
       "      <td>2</td>\n",
       "      <td>LP001031</td>\n",
       "      <td>Y</td>\n",
       "    </tr>\n",
       "    <tr>\n",
       "      <th>3</th>\n",
       "      <td>3</td>\n",
       "      <td>LP001035</td>\n",
       "      <td>Y</td>\n",
       "    </tr>\n",
       "    <tr>\n",
       "      <th>4</th>\n",
       "      <td>4</td>\n",
       "      <td>LP001051</td>\n",
       "      <td>N</td>\n",
       "    </tr>\n",
       "  </tbody>\n",
       "</table>\n",
       "</div>"
      ],
      "text/plain": [
       "   Unnamed: 0   Loan_ID Loan_Status\n",
       "0           0  LP001015           Y\n",
       "1           1  LP001022           Y\n",
       "2           2  LP001031           Y\n",
       "3           3  LP001035           Y\n",
       "4           4  LP001051           N"
      ]
     },
     "execution_count": 37,
     "metadata": {},
     "output_type": "execute_result"
    }
   ],
   "source": [
    "q.head(5)"
   ]
  },
  {
   "cell_type": "markdown",
   "id": "285b5ab2",
   "metadata": {},
   "source": [
    "# Regression"
   ]
  },
  {
   "cell_type": "code",
   "execution_count": 38,
   "id": "3baa25d7",
   "metadata": {},
   "outputs": [],
   "source": [
    "Y1=df_train[[\"LoanAmount\"]]\n",
    "X1=df_train.drop(labels=[\"LoanAmount\",\"Loan_ID\"],axis=1)"
   ]
  },
  {
   "cell_type": "code",
   "execution_count": 39,
   "id": "78810035",
   "metadata": {},
   "outputs": [],
   "source": [
    "from functions import preprocessing\n",
    "x_new_2=preprocessing(X1)"
   ]
  },
  {
   "cell_type": "code",
   "execution_count": 40,
   "id": "ccce9043",
   "metadata": {},
   "outputs": [],
   "source": [
    "#print(x_new_2)"
   ]
  },
  {
   "cell_type": "code",
   "execution_count": 41,
   "id": "68bafcb1",
   "metadata": {},
   "outputs": [
    {
     "data": {
      "text/plain": [
       "5601.175255442149"
      ]
     },
     "execution_count": 41,
     "metadata": {},
     "output_type": "execute_result"
    }
   ],
   "source": [
    "from sklearn.model_selection import train_test_split\n",
    "xtrain1,xtest1,ytrain1,ytest1 = train_test_split(x_new_2,Y1, test_size=0.2, random_state=21)\n",
    "from sklearn.linear_model import LinearRegression\n",
    "lm = LinearRegression()\n",
    "model = lm.fit(xtrain1, ytrain1)\n",
    "\n",
    "pred = model.predict(xtest1)\n",
    "\n",
    "from sklearn.metrics import mean_squared_error\n",
    "mean_squared_error(ytest1, pred)"
   ]
  },
  {
   "cell_type": "code",
   "execution_count": 42,
   "id": "06fe7370",
   "metadata": {},
   "outputs": [],
   "source": [
    "# now we are going test a loan amount value\n",
    "new=df_test.drop(labels=[\"LoanAmount\",\"Loan_ID\"],axis=1)"
   ]
  },
  {
   "cell_type": "code",
   "execution_count": 43,
   "id": "a7d76a6a",
   "metadata": {},
   "outputs": [
    {
     "data": {
      "text/plain": [
       "Index(['ApplicantIncome', 'CoapplicantIncome', 'Loan_Amount_Term',\n",
       "       'Credit_History', 'Gender_Female', 'Gender_Male', 'Married_No',\n",
       "       'Married_Yes', 'Dependents_0', 'Dependents_1', 'Dependents_2',\n",
       "       'Dependents_3+', 'Education_Graduate', 'Education_Not Graduate',\n",
       "       'Self_Employed_No', 'Self_Employed_Yes', 'Property_Area_Rural',\n",
       "       'Property_Area_Semiurban', 'Property_Area_Urban', 'Loan_Status_N',\n",
       "       'Loan_Status_Y'],\n",
       "      dtype='object')"
      ]
     },
     "execution_count": 43,
     "metadata": {},
     "output_type": "execute_result"
    }
   ],
   "source": [
    "xtrain1.columns"
   ]
  },
  {
   "cell_type": "code",
   "execution_count": 44,
   "id": "6ca7eb19",
   "metadata": {},
   "outputs": [],
   "source": [
    "new_test=preprocessing(new)\n",
    "new_test['Loan_Status_Y']=0\n",
    "new_test['Loan_Status_N']=0"
   ]
  },
  {
   "cell_type": "code",
   "execution_count": 45,
   "id": "c05680e6",
   "metadata": {},
   "outputs": [],
   "source": [
    "list2=new_test[list(xtrain1.columns)]"
   ]
  },
  {
   "cell_type": "code",
   "execution_count": 46,
   "id": "c8503c02",
   "metadata": {},
   "outputs": [],
   "source": [
    "final=model.predict(list2)\n",
    "#print(final)"
   ]
  },
  {
   "cell_type": "code",
   "execution_count": 47,
   "id": "5d58a8bc",
   "metadata": {},
   "outputs": [],
   "source": [
    "s=df_test[[\"Loan_Amount_Term\"]]"
   ]
  },
  {
   "cell_type": "code",
   "execution_count": 48,
   "id": "280f8557",
   "metadata": {},
   "outputs": [],
   "source": [
    "s[\"LoanAmount\"]=final"
   ]
  },
  {
   "cell_type": "code",
   "execution_count": 49,
   "id": "d23ea888",
   "metadata": {},
   "outputs": [],
   "source": [
    "s.to_csv(\"C:/Users/hp-pc/Desktop/amount.csv\")"
   ]
  },
  {
   "cell_type": "markdown",
   "id": "f58243f8",
   "metadata": {},
   "source": [
    "# According to 3rd problem statement"
   ]
  },
  {
   "cell_type": "code",
   "execution_count": 52,
   "id": "56771578",
   "metadata": {},
   "outputs": [
    {
     "name": "stdout",
     "output_type": "stream",
     "text": [
      "\n",
      "Enter the duration:4\n",
      "\n",
      "Predicted Loan Amount: [[140.3742496]]\n",
      "Enter the amount:130\n",
      "130\n",
      " no no ,you are eligible for 140 amount for loan\n"
     ]
    },
    {
     "data": {
      "text/plain": [
       "60.293087696524985"
      ]
     },
     "execution_count": 52,
     "metadata": {},
     "output_type": "execute_result"
    }
   ],
   "source": [
    "Y3=df_train[[\"LoanAmount\"]]\n",
    "X3=df_train[[\"Loan_Amount_Term\"]]\n",
    "\n",
    "from sklearn.model_selection import train_test_split\n",
    "xtrain1,xtest1,ytrain1,ytest1 = train_test_split(X3,Y3,test_size=0.2,random_state=21)\n",
    "\n",
    "from sklearn.linear_model import LinearRegression\n",
    "lm = LinearRegression()\n",
    "model = lm.fit(xtrain1, ytrain1)\n",
    "interception=model.intercept_\n",
    "coeff=model.coef_\n",
    "\n",
    "duration=int(input(\"\\nEnter the duration:\"))\n",
    "pred_amount=interception + coeff*duration\n",
    "print(\"\\nPredicted Loan Amount:\",pred_amount)\n",
    "p1=int(pred_amount)\n",
    "#print(p1)\n",
    "if(duration<=20):\n",
    "    amount=print(int(input(\"Enter the amount:\")))\n",
    "    if(amount==p1):\n",
    "        print(\"you are eligible for\",amount,\"for loan\")\n",
    "    else:\n",
    "        print(\" no no ,you are eligible for\",p1,\"amount for loan\")\n",
    "\n",
    "from sklearn.metrics import mean_absolute_error\n",
    "pred=model.predict(xtest1)\n",
    "mean_absolute_error(ytest1,pred)"
   ]
  },
  {
   "cell_type": "code",
   "execution_count": null,
   "id": "acf6cd21",
   "metadata": {},
   "outputs": [],
   "source": []
  },
  {
   "cell_type": "code",
   "execution_count": null,
   "id": "01009598",
   "metadata": {},
   "outputs": [],
   "source": []
  }
 ],
 "metadata": {
  "kernelspec": {
   "display_name": "Python 3",
   "language": "python",
   "name": "python3"
  },
  "language_info": {
   "codemirror_mode": {
    "name": "ipython",
    "version": 3
   },
   "file_extension": ".py",
   "mimetype": "text/x-python",
   "name": "python",
   "nbconvert_exporter": "python",
   "pygments_lexer": "ipython3",
   "version": "3.8.8"
  }
 },
 "nbformat": 4,
 "nbformat_minor": 5
}
